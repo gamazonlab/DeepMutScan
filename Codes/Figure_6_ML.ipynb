{
 "cells": [
  {
   "cell_type": "markdown",
   "metadata": {},
   "source": [
    "## Figure_6_ML"
   ]
  },
  {
   "cell_type": "code",
   "execution_count": 1,
   "metadata": {},
   "outputs": [],
   "source": [
    "import pandas as pd\n",
    "import numpy as np\n",
    "import matplotlib.pyplot as plt\n",
    "np.set_printoptions(precision=3, suppress=True)\n",
    "\n",
    "from sklearn.preprocessing import StandardScaler\n",
    "from sklearn.ensemble import RandomForestRegressor\n",
    "from sklearn.model_selection import train_test_split\n",
    "from sklearn.model_selection import GridSearchCV"
   ]
  },
  {
   "cell_type": "markdown",
   "metadata": {},
   "source": [
    "### Data preprocessing"
   ]
  },
  {
   "cell_type": "code",
   "execution_count": 2,
   "metadata": {},
   "outputs": [
    {
     "data": {
      "text/plain": [
       "variant      0\n",
       "COV2_2050    0\n",
       "COV2_2082    0\n",
       "COV2_2094    0\n",
       "COV2_2096    0\n",
       "COV2_2165    0\n",
       "COV2_2479    0\n",
       "COV2_2499    0\n",
       "COV2_2677    0\n",
       "COV2_2832    0\n",
       "rCR3022      0\n",
       "bind_avg     0\n",
       "expr_avg     0\n",
       "dtype: int64"
      ]
     },
     "execution_count": 2,
     "metadata": {},
     "output_type": "execute_result"
    }
   ],
   "source": [
    "df_pred_all_pheno=pd.read_csv('../Data/ML_Input/ML_input_Abs_pred_all_pheno_inv_boxcox.csv')\n",
    "df_pred_all_pheno\n",
    "df_pred_processed=df_pred_all_pheno.dropna()\n",
    "df_pred_processed.isna().sum()"
   ]
  },
  {
   "cell_type": "code",
   "execution_count": 3,
   "metadata": {},
   "outputs": [
    {
     "data": {
      "text/plain": [
       "COV2_2050    1.250221e-04\n",
       "COV2_2082    1.120897e-04\n",
       "COV2_2094    5.286270e-05\n",
       "COV2_2096    3.406040e-04\n",
       "COV2_2165    1.550281e-08\n",
       "COV2_2479    1.956392e-05\n",
       "COV2_2499    2.934766e-03\n",
       "COV2_2677    2.945293e-04\n",
       "COV2_2832    4.855796e-05\n",
       "rCR3022      8.720258e-05\n",
       "dtype: float64"
      ]
     },
     "execution_count": 3,
     "metadata": {},
     "output_type": "execute_result"
    }
   ],
   "source": [
    "X_RBD_Abs = df_pred_processed.drop([\"variant\",\"bind_avg\", \"expr_avg\"], axis=1)\n",
    "y_RBD_B = df_pred_processed[\"bind_avg\"]\n",
    "X_RBD_Abs.var()"
   ]
  },
  {
   "cell_type": "code",
   "execution_count": 4,
   "metadata": {},
   "outputs": [
    {
     "data": {
      "text/plain": [
       "COV2_2050    1.00045\n",
       "COV2_2082    1.00045\n",
       "COV2_2094    1.00045\n",
       "COV2_2096    1.00045\n",
       "COV2_2165    1.00045\n",
       "COV2_2479    1.00045\n",
       "COV2_2499    1.00045\n",
       "COV2_2677    1.00045\n",
       "COV2_2832    1.00045\n",
       "rCR3022      1.00045\n",
       "dtype: float64"
      ]
     },
     "execution_count": 4,
     "metadata": {},
     "output_type": "execute_result"
    }
   ],
   "source": [
    "scaler = StandardScaler()\n",
    "X_RBD_Abs_scaled = pd.DataFrame(scaler.fit_transform(X_RBD_Abs),columns=X_RBD_Abs.columns)\n",
    "X_RBD_Abs_scaled.var()"
   ]
  },
  {
   "cell_type": "code",
   "execution_count": 5,
   "metadata": {},
   "outputs": [],
   "source": [
    "X_train, X_test, y_train, y_test = train_test_split(X_RBD_Abs_scaled, y_RBD_B, test_size=0.2, random_state=21)"
   ]
  },
  {
   "cell_type": "markdown",
   "metadata": {},
   "source": [
    "### ML model with RandomForestRegressor"
   ]
  },
  {
   "cell_type": "code",
   "execution_count": 6,
   "metadata": {},
   "outputs": [
    {
     "name": "stdout",
     "output_type": "stream",
     "text": [
      "Fitting 5 folds for each of 216 candidates, totalling 1080 fits\n"
     ]
    },
    {
     "name": "stderr",
     "output_type": "stream",
     "text": [
      "[Parallel(n_jobs=-1)]: Using backend LokyBackend with 8 concurrent workers.\n",
      "[Parallel(n_jobs=-1)]: Done  25 tasks      | elapsed:   21.0s\n",
      "[Parallel(n_jobs=-1)]: Done 146 tasks      | elapsed:  1.7min\n",
      "[Parallel(n_jobs=-1)]: Done 349 tasks      | elapsed:  3.6min\n",
      "[Parallel(n_jobs=-1)]: Done 632 tasks      | elapsed:  6.8min\n",
      "[Parallel(n_jobs=-1)]: Done 997 tasks      | elapsed: 10.8min\n",
      "[Parallel(n_jobs=-1)]: Done 1080 out of 1080 | elapsed: 11.3min finished\n"
     ]
    },
    {
     "data": {
      "text/plain": [
       "{'bootstrap': True,\n",
       " 'max_depth': 30,\n",
       " 'max_features': 'auto',\n",
       " 'min_samples_leaf': 2,\n",
       " 'min_samples_split': 3,\n",
       " 'n_estimators': 1000}"
      ]
     },
     "execution_count": 6,
     "metadata": {},
     "output_type": "execute_result"
    }
   ],
   "source": [
    "## Grid Search with Cross Validation\n",
    "param_grid = {\n",
    "    'bootstrap': [True],\n",
    "    'max_depth': [10, 20, 30, 40],\n",
    "    'max_features': ['auto', 'sqrt'],\n",
    "    'min_samples_leaf': [2, 3, 4],\n",
    "    'min_samples_split': [3, 5, 7],\n",
    "    'n_estimators': [800, 1000, 1200]\n",
    "}\n",
    "\n",
    "rf = RandomForestRegressor()\n",
    "grid_search = GridSearchCV(estimator = rf, param_grid = param_grid, cv = 5, n_jobs = -1, verbose = 2)\n",
    "\n",
    "grid_search.fit(X_train, y_train)\n",
    "grid_search.best_params_"
   ]
  },
  {
   "cell_type": "code",
   "execution_count": 7,
   "metadata": {},
   "outputs": [
    {
     "data": {
      "image/png": "[encoded data removed]",
      "text/plain": [
       "<Figure size 576x432 with 1 Axes>"
      ]
     },
     "metadata": {
      "needs_background": "light"
     },
     "output_type": "display_data"
    }
   ],
   "source": [
    "# model training\n",
    "rf_best = RandomForestRegressor(n_estimators= 1200,min_samples_split= 3,min_samples_leaf= 2,max_features= 'auto', max_depth= 30, bootstrap=True, random_state = 42)\n",
    "rf_best.fit(X_train, y_train)\n",
    "y_pred = rf_best.predict(X_test)\n",
    "\n",
    "# Create a pd.Series of features importances\n",
    "importances_rf = pd.Series(rf_best.feature_importances_, index = X_RBD_Abs_scaled.columns)\n",
    "# Sort importances_rf                                   \n",
    "sorted_importances_rf = importances_rf.sort_values()   \n",
    "# Make a horizontal bar plot\n",
    "plt.figure(figsize=(8,6))\n",
    "sorted_importances_rf.plot(kind='barh', color='lightgreen'); \n",
    "plt.title('Feature importance', fontsize=16)\n",
    "plt.show()"
   ]
  },
  {
   "cell_type": "code",
   "execution_count": null,
   "metadata": {},
   "outputs": [],
   "source": []
  }
 ],
 "metadata": {
  "kernelspec": {
   "display_name": "Python 3",
   "language": "python",
   "name": "python3"
  },
  "language_info": {
   "codemirror_mode": {
    "name": "ipython",
    "version": 3
   },
   "file_extension": ".py",
   "mimetype": "text/x-python",
   "name": "python",
   "nbconvert_exporter": "python",
   "pygments_lexer": "ipython3",
   "version": "3.6.12"
  }
 },
 "nbformat": 4,
 "nbformat_minor": 4
}
