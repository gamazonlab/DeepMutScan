{
 "cells": [
  {
   "cell_type": "markdown",
   "metadata": {},
   "source": [
    "## Figure_4_AAshuffling"
   ]
  },
  {
   "cell_type": "code",
   "execution_count": 1,
   "metadata": {},
   "outputs": [],
   "source": [
    "import pandas as pd\n",
    "import csv\n",
    "import seaborn as sns\n",
    "import matplotlib.pyplot as plt\n",
    "import numpy as np"
   ]
  },
  {
   "cell_type": "markdown",
   "metadata": {},
   "source": [
    "### Read-in"
   ]
  },
  {
   "cell_type": "code",
   "execution_count": 2,
   "metadata": {},
   "outputs": [],
   "source": [
    "df_1xk5f8   = pd.read_csv(\"../Results/AA_Shuffling/1xk5f8_eval_sum.txt\",sep='\\t')\n",
    "df_1xk5f32   = pd.read_csv(\"../Results/AA_Shuffling/1xk5f32_eval_sum.txt\",sep='\\t') \n",
    "df_2xk5f32   = pd.read_csv(\"../Results/AA_Shuffling/2xk5f32_eval_sum.txt\",sep='\\t') \n",
    "df_3xk5f32   = pd.read_csv(\"../Results/AA_Shuffling/3xk5f32_eval_sum.txt\",sep='\\t') \n",
    "\n",
    "df_1xk5f8_test=df_1xk5f8[df_1xk5f8['set']=='test']\n",
    "df_1xk5f32_test=df_1xk5f32[df_1xk5f32['set']=='test']\n",
    "df_2xk5f32_test=df_2xk5f32[df_2xk5f32['set']=='test']\n",
    "df_3xk5f32_test=df_3xk5f32[df_3xk5f32['set']=='test']"
   ]
  },
  {
   "cell_type": "code",
   "execution_count": 3,
   "metadata": {},
   "outputs": [],
   "source": [
    "x_1=df_1xk5f8_test['spearmanr'].astype('float64')\n",
    "x_2=df_1xk5f32_test['spearmanr'].astype('float64')\n",
    "x_3=df_2xk5f32_test['spearmanr'].astype('float64')\n",
    "x_4=df_3xk5f32_test['spearmanr'].astype('float64')\n",
    "cut=np.arange(0.52, 0.82, 0.01)\n",
    "#true values\n",
    "# 1xk5f8    test\t0.6617451509453819\n",
    "# 1xk5f32   test\t0.6821393352787323\n",
    "# 2xk5f32   test\t0.7043051311938298\n",
    "# 3xk5f32   test\t0.7207495898898266"
   ]
  },
  {
   "cell_type": "markdown",
   "metadata": {},
   "source": [
    "### Visualizations"
   ]
  },
  {
   "cell_type": "code",
   "execution_count": 4,
   "metadata": {},
   "outputs": [
    {
     "data": {
      "text/plain": [
       "Text(0.5, 1.0, 'AAindex-1xk5f8')"
      ]
     },
     "execution_count": 4,
     "metadata": {},
     "output_type": "execute_result"
    },
    {
     "data": {
      "image/png": "[encoded data removed]",
      "text/plain": [
       "<Figure size 432x288 with 1 Axes>"
      ]
     },
     "metadata": {
      "needs_background": "light"
     },
     "output_type": "display_data"
    }
   ],
   "source": [
    "plt.hist(x_1, bins=cut)\n",
    "plt.scatter(x=0.662,y=1,color='r')\n",
    "plt.title(\"AAindex-1xk5f8\")"
   ]
  },
  {
   "cell_type": "code",
   "execution_count": 5,
   "metadata": {},
   "outputs": [
    {
     "data": {
      "text/plain": [
       "Text(0.5, 1.0, 'AAindex-1xk5f32')"
      ]
     },
     "execution_count": 5,
     "metadata": {},
     "output_type": "execute_result"
    },
    {
     "data": {
      "image/png": "[encoded data removed]",
      "text/plain": [
       "<Figure size 432x288 with 1 Axes>"
      ]
     },
     "metadata": {
      "needs_background": "light"
     },
     "output_type": "display_data"
    }
   ],
   "source": [
    "plt.hist(x_2, bins=cut)\n",
    "plt.scatter(x=0.682,y=1,color='r')\n",
    "plt.title(\"AAindex-1xk5f32\")"
   ]
  },
  {
   "cell_type": "code",
   "execution_count": 6,
   "metadata": {},
   "outputs": [
    {
     "data": {
      "text/plain": [
       "Text(0.5, 1.0, 'AAindex-2xk5f32')"
      ]
     },
     "execution_count": 6,
     "metadata": {},
     "output_type": "execute_result"
    },
    {
     "data": {
      "image/png": "[encoded data removed]",
      "text/plain": [
       "<Figure size 432x288 with 1 Axes>"
      ]
     },
     "metadata": {
      "needs_background": "light"
     },
     "output_type": "display_data"
    }
   ],
   "source": [
    "plt.hist(x_3, bins=cut)\n",
    "plt.scatter(x=0.704,y=1,color='r')\n",
    "plt.title(\"AAindex-2xk5f32\")"
   ]
  },
  {
   "cell_type": "code",
   "execution_count": 7,
   "metadata": {},
   "outputs": [
    {
     "data": {
      "text/plain": [
       "Text(0.5, 1.0, 'AAindex-3xk5f32')"
      ]
     },
     "execution_count": 7,
     "metadata": {},
     "output_type": "execute_result"
    },
    {
     "data": {
      "image/png": "[encoded data removed]",
      "text/plain": [
       "<Figure size 432x288 with 1 Axes>"
      ]
     },
     "metadata": {
      "needs_background": "light"
     },
     "output_type": "display_data"
    }
   ],
   "source": [
    "plt.hist(x_4, bins=cut)\n",
    "plt.scatter(x=0.721,y=1,color='r')\n",
    "plt.title(\"AAindex-3xk5f32\")"
   ]
  },
  {
   "cell_type": "code",
   "execution_count": null,
   "metadata": {},
   "outputs": [],
   "source": []
  }
 ],
 "metadata": {
  "kernelspec": {
   "display_name": "Python 3",
   "language": "python",
   "name": "python3"
  },
  "language_info": {
   "codemirror_mode": {
    "name": "ipython",
    "version": 3
   },
   "file_extension": ".py",
   "mimetype": "text/x-python",
   "name": "python",
   "nbconvert_exporter": "python",
   "pygments_lexer": "ipython3",
   "version": "3.6.12"
  }
 },
 "nbformat": 4,
 "nbformat_minor": 4
}
